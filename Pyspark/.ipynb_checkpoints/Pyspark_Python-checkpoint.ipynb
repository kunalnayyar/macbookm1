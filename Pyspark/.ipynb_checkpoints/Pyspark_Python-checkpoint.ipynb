{
 "cells": [
  {
   "cell_type": "code",
   "execution_count": 1,
   "id": "870f347d",
   "metadata": {},
   "outputs": [
    {
     "name": "stdout",
     "output_type": "stream",
     "text": [
      "Collecting pyspark\n",
      "  Using cached pyspark-3.3.2.tar.gz (281.4 MB)\n",
      "  Preparing metadata (setup.py) ... \u001b[?25ldone\n",
      "\u001b[?25hCollecting py4j==0.10.9.5\n",
      "  Using cached py4j-0.10.9.5-py2.py3-none-any.whl (199 kB)\n",
      "Building wheels for collected packages: pyspark\n",
      "  Building wheel for pyspark (setup.py) ... \u001b[?25ldone\n",
      "\u001b[?25h  Created wheel for pyspark: filename=pyspark-3.3.2-py2.py3-none-any.whl size=281824010 sha256=3aa3c429ea831347625acced2cc399d94dda2f7c532b5877646292a6a824b93b\n",
      "  Stored in directory: /Users/koffeebook/Library/Caches/pip/wheels/47/69/84/c7c7776e2287a654536f5cba7dc54c904c03aa2c3e29206f0f\n",
      "Successfully built pyspark\n",
      "Installing collected packages: py4j, pyspark\n",
      "Successfully installed py4j-0.10.9.5 pyspark-3.3.2\n"
     ]
    }
   ],
   "source": [
    "!pip install pyspark"
   ]
  },
  {
   "cell_type": "code",
   "execution_count": 5,
   "id": "2a21449d",
   "metadata": {},
   "outputs": [
    {
     "name": "stdout",
     "output_type": "stream",
     "text": [
      "Collecting pandas\n",
      "  Downloading pandas-2.0.0-cp311-cp311-macosx_10_9_x86_64.whl (11.6 MB)\n",
      "\u001b[2K     \u001b[90m━━━━━━━━━━━━━━━━━━━━━━━━━━━━━━━━━━━━━━━━\u001b[0m \u001b[32m11.6/11.6 MB\u001b[0m \u001b[31m45.3 MB/s\u001b[0m eta \u001b[36m0:00:00\u001b[0m00:01\u001b[0m00:01\u001b[0m\n",
      "\u001b[?25hRequirement already satisfied: python-dateutil>=2.8.2 in /Users/koffeebook/opt/anaconda3/envs/myenv/lib/python3.11/site-packages (from pandas) (2.8.2)\n",
      "Collecting pytz>=2020.1\n",
      "  Downloading pytz-2023.3-py2.py3-none-any.whl (502 kB)\n",
      "\u001b[2K     \u001b[90m━━━━━━━━━━━━━━━━━━━━━━━━━━━━━━━━━━━━━━\u001b[0m \u001b[32m502.3/502.3 kB\u001b[0m \u001b[31m42.3 MB/s\u001b[0m eta \u001b[36m0:00:00\u001b[0m\n",
      "\u001b[?25hCollecting tzdata>=2022.1\n",
      "  Downloading tzdata-2023.3-py2.py3-none-any.whl (341 kB)\n",
      "\u001b[2K     \u001b[90m━━━━━━━━━━━━━━━━━━━━━━━━━━━━━━━━━━━━━━\u001b[0m \u001b[32m341.8/341.8 kB\u001b[0m \u001b[31m44.8 MB/s\u001b[0m eta \u001b[36m0:00:00\u001b[0m\n",
      "\u001b[?25hCollecting numpy>=1.21.0\n",
      "  Downloading numpy-1.24.2-cp311-cp311-macosx_10_9_x86_64.whl (19.8 MB)\n",
      "\u001b[2K     \u001b[90m━━━━━━━━━━━━━━━━━━━━━━━━━━━━━━━━━━━━━━━━\u001b[0m \u001b[32m19.8/19.8 MB\u001b[0m \u001b[31m39.3 MB/s\u001b[0m eta \u001b[36m0:00:00\u001b[0m00:01\u001b[0m00:01\u001b[0m\n",
      "\u001b[?25hRequirement already satisfied: six>=1.5 in /Users/koffeebook/opt/anaconda3/envs/myenv/lib/python3.11/site-packages (from python-dateutil>=2.8.2->pandas) (1.16.0)\n",
      "Installing collected packages: pytz, tzdata, numpy, pandas\n",
      "Successfully installed numpy-1.24.2 pandas-2.0.0 pytz-2023.3 tzdata-2023.3\n"
     ]
    }
   ],
   "source": [
    "!pip install pandas"
   ]
  },
  {
   "cell_type": "code",
   "execution_count": 1,
   "id": "d86e4b56",
   "metadata": {},
   "outputs": [],
   "source": [
    "from pyspark.sql import SparkSession"
   ]
  },
  {
   "cell_type": "code",
   "execution_count": 29,
   "id": "53d91fa1",
   "metadata": {},
   "outputs": [],
   "source": [
    "from pyspark.sql.functions import *"
   ]
  },
  {
   "cell_type": "code",
   "execution_count": 30,
   "id": "0a411f38",
   "metadata": {},
   "outputs": [],
   "source": [
    "from pyspark.sql.types import *"
   ]
  },
  {
   "cell_type": "code",
   "execution_count": 2,
   "id": "0da44c7f",
   "metadata": {},
   "outputs": [
    {
     "name": "stderr",
     "output_type": "stream",
     "text": [
      "Setting default log level to \"WARN\".\n",
      "To adjust logging level use sc.setLogLevel(newLevel). For SparkR, use setLogLevel(newLevel).\n"
     ]
    },
    {
     "name": "stdout",
     "output_type": "stream",
     "text": [
      "23/04/13 00:47:21 WARN NativeCodeLoader: Unable to load native-hadoop library for your platform... using builtin-java classes where applicable\n"
     ]
    }
   ],
   "source": [
    "spark = SparkSession.builder.appName(\"pysparktest\").getOrCreate()"
   ]
  },
  {
   "cell_type": "code",
   "execution_count": 3,
   "id": "ee6a6ce7",
   "metadata": {},
   "outputs": [
    {
     "data": {
      "text/html": [
       "\n",
       "            <div>\n",
       "                <p><b>SparkSession - in-memory</b></p>\n",
       "                \n",
       "        <div>\n",
       "            <p><b>SparkContext</b></p>\n",
       "\n",
       "            <p><a href=\"http://192.168.68.52:4040\">Spark UI</a></p>\n",
       "\n",
       "            <dl>\n",
       "              <dt>Version</dt>\n",
       "                <dd><code>v3.3.2</code></dd>\n",
       "              <dt>Master</dt>\n",
       "                <dd><code>local[*]</code></dd>\n",
       "              <dt>AppName</dt>\n",
       "                <dd><code>pysparktest</code></dd>\n",
       "            </dl>\n",
       "        </div>\n",
       "        \n",
       "            </div>\n",
       "        "
      ],
      "text/plain": [
       "<pyspark.sql.session.SparkSession at 0x10f72ee10>"
      ]
     },
     "execution_count": 3,
     "metadata": {},
     "output_type": "execute_result"
    }
   ],
   "source": [
    "spark"
   ]
  },
  {
   "cell_type": "code",
   "execution_count": 6,
   "id": "298b58ad",
   "metadata": {},
   "outputs": [],
   "source": [
    "import pandas as pd"
   ]
  },
  {
   "cell_type": "code",
   "execution_count": 64,
   "id": "f5d5b859",
   "metadata": {},
   "outputs": [
    {
     "name": "stdout",
     "output_type": "stream",
     "text": [
      "{'apple': 2, 'mango': 2, 'banana': 1}\n"
     ]
    }
   ],
   "source": [
    "list1 = ['apple', 'mango', 'apple', 'banana', 'mango']\n",
    "\n",
    "d={}\n",
    "for i in list1:\n",
    "    if i in d:\n",
    "        d[i]+=1\n",
    "    else:\n",
    "        d[i]=1\n",
    "print(d)"
   ]
  },
  {
   "cell_type": "code",
   "execution_count": 83,
   "id": "c1e15ec3",
   "metadata": {},
   "outputs": [
    {
     "name": "stdout",
     "output_type": "stream",
     "text": [
      "apple 2\n",
      "mango 2\n",
      "banana 1\n"
     ]
    }
   ],
   "source": [
    "from collections import defaultdict\n",
    "s = set()\n",
    "for i in list1:\n",
    "    count = 0\n",
    "    \n",
    "    if i not in s:\n",
    "        for j in list1:\n",
    "            if i == j:\n",
    "                count+=1\n",
    "        print(i,count)\n",
    "        s.add(i)"
   ]
  },
  {
   "cell_type": "code",
   "execution_count": 84,
   "id": "b57d17cb",
   "metadata": {},
   "outputs": [
    {
     "data": {
      "text/plain": [
       "['.DS_Store',\n",
       " 'Pyspark',\n",
       " 'practice.py',\n",
       " 'pyspark_test.py',\n",
       " 'test2.py',\n",
       " 'restaurant_orders.csv',\n",
       " 'Kafka',\n",
       " '.ipynb_checkpoints',\n",
       " 'Pyspark_Python.ipynb']"
      ]
     },
     "execution_count": 84,
     "metadata": {},
     "output_type": "execute_result"
    }
   ],
   "source": [
    "import os \n",
    "os.listdir()"
   ]
  },
  {
   "cell_type": "code",
   "execution_count": 87,
   "id": "93b8aeec",
   "metadata": {},
   "outputs": [
    {
     "data": {
      "text/html": [
       "<div>\n",
       "<style scoped>\n",
       "    .dataframe tbody tr th:only-of-type {\n",
       "        vertical-align: middle;\n",
       "    }\n",
       "\n",
       "    .dataframe tbody tr th {\n",
       "        vertical-align: top;\n",
       "    }\n",
       "\n",
       "    .dataframe thead th {\n",
       "        text-align: right;\n",
       "    }\n",
       "</style>\n",
       "<table border=\"1\" class=\"dataframe\">\n",
       "  <thead>\n",
       "    <tr style=\"text-align: right;\">\n",
       "      <th></th>\n",
       "      <th>Order Number</th>\n",
       "      <th>Order Date</th>\n",
       "      <th>Item Name</th>\n",
       "      <th>Quantity</th>\n",
       "      <th>Product Price</th>\n",
       "      <th>Total products</th>\n",
       "    </tr>\n",
       "  </thead>\n",
       "  <tbody>\n",
       "    <tr>\n",
       "      <th>0</th>\n",
       "      <td>16118</td>\n",
       "      <td>03/08/2019 20:25</td>\n",
       "      <td>Plain Papadum</td>\n",
       "      <td>2</td>\n",
       "      <td>0.80</td>\n",
       "      <td>6</td>\n",
       "    </tr>\n",
       "    <tr>\n",
       "      <th>1</th>\n",
       "      <td>16118</td>\n",
       "      <td>03/08/2019 20:25</td>\n",
       "      <td>King Prawn Balti</td>\n",
       "      <td>1</td>\n",
       "      <td>12.95</td>\n",
       "      <td>6</td>\n",
       "    </tr>\n",
       "    <tr>\n",
       "      <th>2</th>\n",
       "      <td>16118</td>\n",
       "      <td>03/08/2019 20:25</td>\n",
       "      <td>Garlic Naan</td>\n",
       "      <td>1</td>\n",
       "      <td>2.95</td>\n",
       "      <td>6</td>\n",
       "    </tr>\n",
       "    <tr>\n",
       "      <th>3</th>\n",
       "      <td>16118</td>\n",
       "      <td>03/08/2019 20:25</td>\n",
       "      <td>Mushroom Rice</td>\n",
       "      <td>1</td>\n",
       "      <td>3.95</td>\n",
       "      <td>6</td>\n",
       "    </tr>\n",
       "    <tr>\n",
       "      <th>4</th>\n",
       "      <td>16118</td>\n",
       "      <td>03/08/2019 20:25</td>\n",
       "      <td>Paneer Tikka Masala</td>\n",
       "      <td>1</td>\n",
       "      <td>8.95</td>\n",
       "      <td>6</td>\n",
       "    </tr>\n",
       "    <tr>\n",
       "      <th>...</th>\n",
       "      <td>...</td>\n",
       "      <td>...</td>\n",
       "      <td>...</td>\n",
       "      <td>...</td>\n",
       "      <td>...</td>\n",
       "      <td>...</td>\n",
       "    </tr>\n",
       "    <tr>\n",
       "      <th>74813</th>\n",
       "      <td>2518</td>\n",
       "      <td>18/05/2016 18:53</td>\n",
       "      <td>House Red wine 75cl</td>\n",
       "      <td>2</td>\n",
       "      <td>17.95</td>\n",
       "      <td>7</td>\n",
       "    </tr>\n",
       "    <tr>\n",
       "      <th>74814</th>\n",
       "      <td>2503</td>\n",
       "      <td>14/05/2016 19:28</td>\n",
       "      <td>House Red wine 75cl</td>\n",
       "      <td>2</td>\n",
       "      <td>17.95</td>\n",
       "      <td>6</td>\n",
       "    </tr>\n",
       "    <tr>\n",
       "      <th>74815</th>\n",
       "      <td>2467</td>\n",
       "      <td>10/05/2016 13:18</td>\n",
       "      <td>House Red wine 75cl</td>\n",
       "      <td>2</td>\n",
       "      <td>17.95</td>\n",
       "      <td>9</td>\n",
       "    </tr>\n",
       "    <tr>\n",
       "      <th>74816</th>\n",
       "      <td>2249</td>\n",
       "      <td>07/04/2016 19:04</td>\n",
       "      <td>House white wine 75cl</td>\n",
       "      <td>1</td>\n",
       "      <td>17.95</td>\n",
       "      <td>6</td>\n",
       "    </tr>\n",
       "    <tr>\n",
       "      <th>74817</th>\n",
       "      <td>1403</td>\n",
       "      <td>02/10/2015 17:29</td>\n",
       "      <td>House Red wine 75cl</td>\n",
       "      <td>1</td>\n",
       "      <td>17.95</td>\n",
       "      <td>9</td>\n",
       "    </tr>\n",
       "  </tbody>\n",
       "</table>\n",
       "<p>74818 rows × 6 columns</p>\n",
       "</div>"
      ],
      "text/plain": [
       "       Order Number        Order Date              Item Name  Quantity   \n",
       "0             16118  03/08/2019 20:25          Plain Papadum         2  \\\n",
       "1             16118  03/08/2019 20:25       King Prawn Balti         1   \n",
       "2             16118  03/08/2019 20:25            Garlic Naan         1   \n",
       "3             16118  03/08/2019 20:25          Mushroom Rice         1   \n",
       "4             16118  03/08/2019 20:25    Paneer Tikka Masala         1   \n",
       "...             ...               ...                    ...       ...   \n",
       "74813          2518  18/05/2016 18:53    House Red wine 75cl         2   \n",
       "74814          2503  14/05/2016 19:28    House Red wine 75cl         2   \n",
       "74815          2467  10/05/2016 13:18    House Red wine 75cl         2   \n",
       "74816          2249  07/04/2016 19:04  House white wine 75cl         1   \n",
       "74817          1403  02/10/2015 17:29    House Red wine 75cl         1   \n",
       "\n",
       "       Product Price  Total products  \n",
       "0               0.80               6  \n",
       "1              12.95               6  \n",
       "2               2.95               6  \n",
       "3               3.95               6  \n",
       "4               8.95               6  \n",
       "...              ...             ...  \n",
       "74813          17.95               7  \n",
       "74814          17.95               6  \n",
       "74815          17.95               9  \n",
       "74816          17.95               6  \n",
       "74817          17.95               9  \n",
       "\n",
       "[74818 rows x 6 columns]"
      ]
     },
     "execution_count": 87,
     "metadata": {},
     "output_type": "execute_result"
    }
   ],
   "source": [
    "df1 = pd.read_csv(\"restaurant_orders.csv\")\n",
    "df1"
   ]
  },
  {
   "cell_type": "code",
   "execution_count": 52,
   "id": "8b6a33a2",
   "metadata": {},
   "outputs": [
    {
     "data": {
      "text/html": [
       "<div>\n",
       "<style scoped>\n",
       "    .dataframe tbody tr th:only-of-type {\n",
       "        vertical-align: middle;\n",
       "    }\n",
       "\n",
       "    .dataframe tbody tr th {\n",
       "        vertical-align: top;\n",
       "    }\n",
       "\n",
       "    .dataframe thead th {\n",
       "        text-align: right;\n",
       "    }\n",
       "</style>\n",
       "<table border=\"1\" class=\"dataframe\">\n",
       "  <thead>\n",
       "    <tr style=\"text-align: right;\">\n",
       "      <th></th>\n",
       "      <th>name</th>\n",
       "      <th>marks</th>\n",
       "      <th>marks2</th>\n",
       "    </tr>\n",
       "  </thead>\n",
       "  <tbody>\n",
       "    <tr>\n",
       "      <th>0</th>\n",
       "      <td>a</td>\n",
       "      <td>34.0</td>\n",
       "      <td>34.0</td>\n",
       "    </tr>\n",
       "    <tr>\n",
       "      <th>1</th>\n",
       "      <td>b</td>\n",
       "      <td>50.0</td>\n",
       "      <td>20.0</td>\n",
       "    </tr>\n",
       "    <tr>\n",
       "      <th>2</th>\n",
       "      <td>c</td>\n",
       "      <td>45.0</td>\n",
       "      <td>NaN</td>\n",
       "    </tr>\n",
       "    <tr>\n",
       "      <th>3</th>\n",
       "      <td>d</td>\n",
       "      <td>12.0</td>\n",
       "      <td>12.0</td>\n",
       "    </tr>\n",
       "    <tr>\n",
       "      <th>4</th>\n",
       "      <td>e</td>\n",
       "      <td>50.0</td>\n",
       "      <td>NaN</td>\n",
       "    </tr>\n",
       "    <tr>\n",
       "      <th>5</th>\n",
       "      <td>f</td>\n",
       "      <td>46.0</td>\n",
       "      <td>18.0</td>\n",
       "    </tr>\n",
       "    <tr>\n",
       "      <th>6</th>\n",
       "      <td>h</td>\n",
       "      <td>NaN</td>\n",
       "      <td>22.0</td>\n",
       "    </tr>\n",
       "    <tr>\n",
       "      <th>7</th>\n",
       "      <td>i</td>\n",
       "      <td>NaN</td>\n",
       "      <td>21.0</td>\n",
       "    </tr>\n",
       "  </tbody>\n",
       "</table>\n",
       "</div>"
      ],
      "text/plain": [
       "  name  marks  marks2\n",
       "0    a   34.0    34.0\n",
       "1    b   50.0    20.0\n",
       "2    c   45.0     NaN\n",
       "3    d   12.0    12.0\n",
       "4    e   50.0     NaN\n",
       "5    f   46.0    18.0\n",
       "6    h    NaN    22.0\n",
       "7    i    NaN    21.0"
      ]
     },
     "execution_count": 52,
     "metadata": {},
     "output_type": "execute_result"
    }
   ],
   "source": [
    "pd.merge(df1,df2,how=\"outer\")"
   ]
  },
  {
   "cell_type": "code",
   "execution_count": 20,
   "id": "f80113a9",
   "metadata": {},
   "outputs": [],
   "source": [
    "def res(marks):\n",
    "    if marks>30:\n",
    "        return \"Pass\"\n",
    "    else:\n",
    "        return \"Fail\""
   ]
  },
  {
   "cell_type": "code",
   "execution_count": 21,
   "id": "4a94cc0d",
   "metadata": {},
   "outputs": [
    {
     "data": {
      "text/html": [
       "<div>\n",
       "<style scoped>\n",
       "    .dataframe tbody tr th:only-of-type {\n",
       "        vertical-align: middle;\n",
       "    }\n",
       "\n",
       "    .dataframe tbody tr th {\n",
       "        vertical-align: top;\n",
       "    }\n",
       "\n",
       "    .dataframe thead th {\n",
       "        text-align: right;\n",
       "    }\n",
       "</style>\n",
       "<table border=\"1\" class=\"dataframe\">\n",
       "  <thead>\n",
       "    <tr style=\"text-align: right;\">\n",
       "      <th></th>\n",
       "      <th>name</th>\n",
       "      <th>marks2</th>\n",
       "      <th>result</th>\n",
       "    </tr>\n",
       "  </thead>\n",
       "  <tbody>\n",
       "    <tr>\n",
       "      <th>0</th>\n",
       "      <td>a</td>\n",
       "      <td>34</td>\n",
       "      <td>Pass</td>\n",
       "    </tr>\n",
       "    <tr>\n",
       "      <th>1</th>\n",
       "      <td>b</td>\n",
       "      <td>50</td>\n",
       "      <td>Pass</td>\n",
       "    </tr>\n",
       "    <tr>\n",
       "      <th>2</th>\n",
       "      <td>h</td>\n",
       "      <td>22</td>\n",
       "      <td>Fail</td>\n",
       "    </tr>\n",
       "    <tr>\n",
       "      <th>3</th>\n",
       "      <td>d</td>\n",
       "      <td>12</td>\n",
       "      <td>Fail</td>\n",
       "    </tr>\n",
       "    <tr>\n",
       "      <th>4</th>\n",
       "      <td>e</td>\n",
       "      <td>12</td>\n",
       "      <td>Fail</td>\n",
       "    </tr>\n",
       "    <tr>\n",
       "      <th>5</th>\n",
       "      <td>i</td>\n",
       "      <td>34</td>\n",
       "      <td>Pass</td>\n",
       "    </tr>\n",
       "  </tbody>\n",
       "</table>\n",
       "</div>"
      ],
      "text/plain": [
       "  name  marks2 result\n",
       "0    a      34   Pass\n",
       "1    b      50   Pass\n",
       "2    h      22   Fail\n",
       "3    d      12   Fail\n",
       "4    e      12   Fail\n",
       "5    i      34   Pass"
      ]
     },
     "execution_count": 21,
     "metadata": {},
     "output_type": "execute_result"
    }
   ],
   "source": [
    "df['result'] = df['marks2'].apply(lambda x:res(x))\n",
    "df"
   ]
  },
  {
   "cell_type": "code",
   "execution_count": 17,
   "id": "a457fc83",
   "metadata": {},
   "outputs": [],
   "source": [
    "df = spark.read.option(\"header\",\"true\").csv(\"restaurant_orders.csv\")"
   ]
  },
  {
   "cell_type": "code",
   "execution_count": 18,
   "id": "0d9d62e3",
   "metadata": {},
   "outputs": [
    {
     "name": "stdout",
     "output_type": "stream",
     "text": [
      "+------------+----------------+--------------------+--------+-------------+--------------+\n",
      "|Order Number|      Order Date|           Item Name|Quantity|Product Price|Total products|\n",
      "+------------+----------------+--------------------+--------+-------------+--------------+\n",
      "|       16118|03/08/2019 20:25|       Plain Papadum|       2|          0.8|             6|\n",
      "|       16118|03/08/2019 20:25|    King Prawn Balti|       1|        12.95|             6|\n",
      "|       16118|03/08/2019 20:25|         Garlic Naan|       1|         2.95|             6|\n",
      "|       16118|03/08/2019 20:25|       Mushroom Rice|       1|         3.95|             6|\n",
      "|       16118|03/08/2019 20:25| Paneer Tikka Masala|       1|         8.95|             6|\n",
      "|       16118|03/08/2019 20:25|       Mango Chutney|       1|          0.5|             6|\n",
      "|       16117|03/08/2019 20:17|          Plain Naan|       1|          2.6|             7|\n",
      "|       16117|03/08/2019 20:17|       Mushroom Rice|       1|         3.95|             7|\n",
      "|       16117|03/08/2019 20:17|Tandoori Chicken ...|       1|         4.95|             7|\n",
      "|       16117|03/08/2019 20:17|     Vindaloo - Lamb|       1|         7.95|             7|\n",
      "|       16117|03/08/2019 20:17|             Chapati|       1|         1.95|             7|\n",
      "|       16117|03/08/2019 20:17|          Lamb Tikka|       1|         4.95|             7|\n",
      "|       16117|03/08/2019 20:17|         Saag Paneer|       1|         5.95|             7|\n",
      "|       16116|03/08/2019 20:09|          Aloo Chaat|       1|         4.95|             5|\n",
      "|       16116|03/08/2019 20:09|      Chicken Pakora|       1|         5.95|             5|\n",
      "|       16116|03/08/2019 20:09|Chicken Chilli Ga...|       1|         9.95|             5|\n",
      "|       16116|03/08/2019 20:09|        Lamb Biryani|       1|         9.95|             5|\n",
      "|       16116|03/08/2019 20:09|          Keema Naan|       1|         2.95|             5|\n",
      "|       16115|03/08/2019 20:01|      Chicken Pakora|       1|         5.95|             7|\n",
      "|       16115|03/08/2019 20:01|       Plain Papadum|       1|          0.8|             7|\n",
      "+------------+----------------+--------------------+--------+-------------+--------------+\n",
      "only showing top 20 rows\n",
      "\n"
     ]
    }
   ],
   "source": [
    "df.show()"
   ]
  },
  {
   "cell_type": "code",
   "execution_count": 22,
   "id": "cdbf9af4",
   "metadata": {},
   "outputs": [
    {
     "data": {
      "text/plain": [
       "['Order Number',\n",
       " 'Order Date',\n",
       " 'Item Name',\n",
       " 'Quantity',\n",
       " 'Product Price',\n",
       " 'Total products']"
      ]
     },
     "execution_count": 22,
     "metadata": {},
     "output_type": "execute_result"
    }
   ],
   "source": [
    "df.columns"
   ]
  },
  {
   "cell_type": "code",
   "execution_count": 25,
   "id": "09ac3d65",
   "metadata": {},
   "outputs": [
    {
     "name": "stderr",
     "output_type": "stream",
     "text": [
      "\r",
      "[Stage 7:>                                                          (0 + 1) / 1]\r"
     ]
    },
    {
     "name": "stdout",
     "output_type": "stream",
     "text": [
      "+-------+------------------+----------------+--------------+------------------+-----------------+------------------+\n",
      "|summary|      Order Number|      Order Date|     Item Name|          Quantity|    Product Price|    Total products|\n",
      "+-------+------------------+----------------+--------------+------------------+-----------------+------------------+\n",
      "|  count|             74818|           74818|         74818|             74818|            74818|             74818|\n",
      "|   mean|  9115.63816193964|            null|          null|  1.24356438290251|5.286491886982787|  6.93143361223235|\n",
      "| stddev|4052.2104520331745|            null|          null|0.7982073410496792|  3.3382213559897|3.9548324912473527|\n",
      "|    min|             10000|01/01/2017 17:31|    Aloo Chaat|                 1|              0.5|                 1|\n",
      "|    25%|            5590.0|            null|          null|               1.0|             2.95|               5.0|\n",
      "|    50%|            9102.0|            null|          null|               1.0|             3.95|               6.0|\n",
      "|    75%|           12630.0|            null|          null|               1.0|             8.95|               8.0|\n",
      "|    max|              9999|31/12/2018 21:56|Vindaloo Sauce|                 9|             9.95|                 9|\n",
      "+-------+------------------+----------------+--------------+------------------+-----------------+------------------+\n",
      "\n"
     ]
    },
    {
     "name": "stderr",
     "output_type": "stream",
     "text": [
      "\r",
      "                                                                                \r"
     ]
    }
   ],
   "source": [
    "df.summary().show()"
   ]
  },
  {
   "cell_type": "code",
   "execution_count": 26,
   "id": "b5efc262",
   "metadata": {},
   "outputs": [
    {
     "data": {
      "text/plain": [
       "74818"
      ]
     },
     "execution_count": 26,
     "metadata": {},
     "output_type": "execute_result"
    }
   ],
   "source": [
    "df.count()"
   ]
  },
  {
   "cell_type": "code",
   "execution_count": 63,
   "id": "bff5297f",
   "metadata": {},
   "outputs": [
    {
     "name": "stdout",
     "output_type": "stream",
     "text": [
      "+--------------------+------------+\n",
      "|           Item Name|Total_orders|\n",
      "+--------------------+------------+\n",
      "|       Plain Papadum|       10648|\n",
      "|          Pilau Rice|        6367|\n",
      "|          Plain Naan|        4983|\n",
      "|         Garlic Naan|        3318|\n",
      "|          Plain Rice|        2964|\n",
      "|        Onion Bhajee|        2749|\n",
      "|       Mango Chutney|        2504|\n",
      "|Chicken Tikka Masala|        2473|\n",
      "|             Chapati|        1935|\n",
      "|          Mint Sauce|        1840|\n",
      "+--------------------+------------+\n",
      "only showing top 10 rows\n",
      "\n"
     ]
    }
   ],
   "source": [
    "df.groupBy(col(\"Item Name\")).agg(sum(col(\"Quantity\").cast(IntegerType())).alias(\"Total_orders\")).orderBy(col(\"Total_orders\").desc()).show(10)"
   ]
  },
  {
   "cell_type": "code",
   "execution_count": 35,
   "id": "3ec998f1",
   "metadata": {},
   "outputs": [],
   "source": [
    "df.createOrReplaceTempView(\"Orders\")"
   ]
  },
  {
   "cell_type": "code",
   "execution_count": 48,
   "id": "92c0de08",
   "metadata": {},
   "outputs": [
    {
     "name": "stdout",
     "output_type": "stream",
     "text": [
      "+------------+----------------+--------------------+--------+-------------+--------------+\n",
      "|Order Number|      Order Date|           Item Name|Quantity|Product Price|Total products|\n",
      "+------------+----------------+--------------------+--------+-------------+--------------+\n",
      "|       16118|03/08/2019 20:25|       Plain Papadum|       2|          0.8|             6|\n",
      "|       16118|03/08/2019 20:25|    King Prawn Balti|       1|        12.95|             6|\n",
      "|       16118|03/08/2019 20:25|         Garlic Naan|       1|         2.95|             6|\n",
      "|       16118|03/08/2019 20:25|       Mushroom Rice|       1|         3.95|             6|\n",
      "|       16118|03/08/2019 20:25| Paneer Tikka Masala|       1|         8.95|             6|\n",
      "|       16118|03/08/2019 20:25|       Mango Chutney|       1|          0.5|             6|\n",
      "|       16117|03/08/2019 20:17|          Plain Naan|       1|          2.6|             7|\n",
      "|       16117|03/08/2019 20:17|       Mushroom Rice|       1|         3.95|             7|\n",
      "|       16117|03/08/2019 20:17|Tandoori Chicken ...|       1|         4.95|             7|\n",
      "|       16117|03/08/2019 20:17|     Vindaloo - Lamb|       1|         7.95|             7|\n",
      "|       16117|03/08/2019 20:17|             Chapati|       1|         1.95|             7|\n",
      "|       16117|03/08/2019 20:17|          Lamb Tikka|       1|         4.95|             7|\n",
      "|       16117|03/08/2019 20:17|         Saag Paneer|       1|         5.95|             7|\n",
      "|       16116|03/08/2019 20:09|          Aloo Chaat|       1|         4.95|             5|\n",
      "|       16116|03/08/2019 20:09|      Chicken Pakora|       1|         5.95|             5|\n",
      "|       16116|03/08/2019 20:09|Chicken Chilli Ga...|       1|         9.95|             5|\n",
      "|       16116|03/08/2019 20:09|        Lamb Biryani|       1|         9.95|             5|\n",
      "|       16116|03/08/2019 20:09|          Keema Naan|       1|         2.95|             5|\n",
      "|       16115|03/08/2019 20:01|      Chicken Pakora|       1|         5.95|             7|\n",
      "|       16115|03/08/2019 20:01|       Plain Papadum|       1|          0.8|             7|\n",
      "+------------+----------------+--------------------+--------+-------------+--------------+\n",
      "only showing top 20 rows\n",
      "\n"
     ]
    }
   ],
   "source": [
    "spark.sql(\"select * from Orders\").show()"
   ]
  },
  {
   "cell_type": "code",
   "execution_count": 49,
   "id": "6e44802f",
   "metadata": {},
   "outputs": [
    {
     "name": "stdout",
     "output_type": "stream",
     "text": [
      "+--------------+---------+-------+\n",
      "|      col_name|data_type|comment|\n",
      "+--------------+---------+-------+\n",
      "|  Order Number|   string|   null|\n",
      "|    Order Date|   string|   null|\n",
      "|     Item Name|   string|   null|\n",
      "|      Quantity|   string|   null|\n",
      "| Product Price|   string|   null|\n",
      "|Total products|   string|   null|\n",
      "+--------------+---------+-------+\n",
      "\n"
     ]
    }
   ],
   "source": [
    "spark.sql(\"describe Orders\").show()"
   ]
  },
  {
   "cell_type": "code",
   "execution_count": 62,
   "id": "90682a2a",
   "metadata": {},
   "outputs": [
    {
     "name": "stdout",
     "output_type": "stream",
     "text": [
      "+--------------------+------------+\n",
      "|           Item Name|Total Orders|\n",
      "+--------------------+------------+\n",
      "|       Plain Papadum|       10648|\n",
      "|          Pilau Rice|        6367|\n",
      "|          Plain Naan|        4983|\n",
      "|         Garlic Naan|        3318|\n",
      "|          Plain Rice|        2964|\n",
      "|        Onion Bhajee|        2749|\n",
      "|       Mango Chutney|        2504|\n",
      "|Chicken Tikka Masala|        2473|\n",
      "|             Chapati|        1935|\n",
      "|          Mint Sauce|        1840|\n",
      "+--------------------+------------+\n",
      "\n"
     ]
    }
   ],
   "source": [
    "spark.sql(\"select `Item Name`,sum(cast(Quantity as int)) as `Total Orders` from Orders group by `Item Name` order by `Total Orders` desc limit 10\").show()"
   ]
  },
  {
   "cell_type": "code",
   "execution_count": null,
   "id": "d7a80449",
   "metadata": {},
   "outputs": [],
   "source": []
  }
 ],
 "metadata": {
  "kernelspec": {
   "display_name": "Python 3 (ipykernel)",
   "language": "python",
   "name": "python3"
  },
  "language_info": {
   "codemirror_mode": {
    "name": "ipython",
    "version": 3
   },
   "file_extension": ".py",
   "mimetype": "text/x-python",
   "name": "python",
   "nbconvert_exporter": "python",
   "pygments_lexer": "ipython3",
   "version": "3.11.2"
  }
 },
 "nbformat": 4,
 "nbformat_minor": 5
}
