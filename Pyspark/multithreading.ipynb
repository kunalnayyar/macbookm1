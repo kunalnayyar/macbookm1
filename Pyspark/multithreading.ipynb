{
 "cells": [
  {
   "cell_type": "code",
   "execution_count": 1,
   "metadata": {},
   "outputs": [
    {
     "name": "stdout",
     "output_type": "stream",
     "text": [
      "8\n"
     ]
    }
   ],
   "source": [
    "!sysctl -n hw.ncpu"
   ]
  },
  {
   "cell_type": "code",
   "execution_count": 2,
   "metadata": {},
   "outputs": [
    {
     "name": "stdout",
     "output_type": "stream",
     "text": [
      "Hardware:\n",
      "\n",
      "    Hardware Overview:\n",
      "\n",
      "      Model Name: MacBook Air\n",
      "      Model Identifier: MacBookAir10,1\n",
      "      Model Number: MGN63HN/A\n",
      "      Chip: Unknown\n",
      "      Total Number of Cores: 8 (4 performance and 4 efficiency)\n",
      "      Memory: 8 GB\n",
      "      System Firmware Version: 8422.100.650\n",
      "      OS Loader Version: 8422.100.650\n",
      "      Serial Number (system): C02JY19EQ6L4\n",
      "      Hardware UUID: 4E243BD3-83E5-58DA-8F60-090B3357EF31\n",
      "      Provisioning UDID: 4E243BD3-83E5-58DA-8F60-090B3357EF31\n",
      "      Activation Lock Status: Enabled\n",
      "\n"
     ]
    }
   ],
   "source": [
    "!system_profiler SPHardwareDataType"
   ]
  },
  {
   "cell_type": "code",
   "execution_count": 5,
   "metadata": {},
   "outputs": [],
   "source": [
    "import numpy as np"
   ]
  },
  {
   "cell_type": "code",
   "execution_count": 6,
   "metadata": {},
   "outputs": [
    {
     "data": {
      "text/plain": [
       "(1000000,)"
      ]
     },
     "execution_count": 6,
     "metadata": {},
     "output_type": "execute_result"
    }
   ],
   "source": [
    "n = 1000000\n",
    "d=np.random.rand(n)\n",
    "d.shape"
   ]
  },
  {
   "cell_type": "code",
   "execution_count": 13,
   "metadata": {},
   "outputs": [
    {
     "name": "stdout",
     "output_type": "stream",
     "text": [
      "0.1428689956665039\n",
      "0.006626129150390625\n"
     ]
    }
   ],
   "source": [
    "import time\n",
    "def mean():\n",
    "    n = d.size\n",
    "    sum=0\n",
    "    for i in range(n):\n",
    "        sum+=d[i]\n",
    "start_time = time.time()\n",
    "mean()\n",
    "end_time = time.time()\n",
    "print((end_time - start_time ))\n",
    "\n",
    "start_time = time.time()\n",
    "np.mean(d)\n",
    "end_time = time.time()\n",
    "print((end_time - start_time ))\n"
   ]
  },
  {
   "cell_type": "code",
   "execution_count": null,
   "metadata": {},
   "outputs": [],
   "source": [
    "from multiprocessing import Process,Queue\n",
    "import math\n",
    "\n"
   ]
  },
  {
   "cell_type": "code",
   "execution_count": null,
   "metadata": {},
   "outputs": [],
   "source": []
  },
  {
   "cell_type": "code",
   "execution_count": null,
   "metadata": {},
   "outputs": [],
   "source": []
  },
  {
   "attachments": {},
   "cell_type": "markdown",
   "metadata": {},
   "source": [
    "JOBLIB  - Internally used by scikit-learn  "
   ]
  },
  {
   "cell_type": "code",
   "execution_count": null,
   "metadata": {},
   "outputs": [],
   "source": []
  },
  {
   "cell_type": "code",
   "execution_count": null,
   "metadata": {},
   "outputs": [],
   "source": []
  },
  {
   "attachments": {},
   "cell_type": "markdown",
   "metadata": {},
   "source": [
    "Numpy vs Numba\n",
    "\n",
    "JIT compiler that translates a subset of Python & Numpy"
   ]
  },
  {
   "cell_type": "code",
   "execution_count": null,
   "metadata": {},
   "outputs": [],
   "source": []
  }
 ],
 "metadata": {
  "kernelspec": {
   "display_name": "myenv2",
   "language": "python",
   "name": "python3"
  },
  "language_info": {
   "codemirror_mode": {
    "name": "ipython",
    "version": 3
   },
   "file_extension": ".py",
   "mimetype": "text/x-python",
   "name": "python",
   "nbconvert_exporter": "python",
   "pygments_lexer": "ipython3",
   "version": "3.11.2"
  },
  "orig_nbformat": 4
 },
 "nbformat": 4,
 "nbformat_minor": 2
}
