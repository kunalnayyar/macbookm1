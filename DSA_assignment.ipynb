{
 "cells": [
  {
   "cell_type": "markdown",
   "id": "3ff5936b",
   "metadata": {},
   "source": [
    "# DSA \n",
    "#### ARRAYS\n",
    "[<b>1. Find 2 elements with given sum</b>](https://www.geeksforgeeks.org/check-if-pair-with-given-sum-exists-in-array/)"
   ]
  },
  {
   "cell_type": "code",
   "execution_count": 1,
   "id": "5e759692",
   "metadata": {},
   "outputs": [
    {
     "name": "stdout",
     "output_type": "stream",
     "text": [
      "Yes the pairs are: 1 and -3\n"
     ]
    }
   ],
   "source": [
    "arr = [0, -1, 2, -3, 1] \n",
    "s = -2 \n",
    "\n",
    "d ={}\n",
    "for i in arr:\n",
    "\tremainder = s-i\n",
    "\tif i in d:\n",
    "\t\tprint(\"Yes the pairs are: {} and {}\".format(i,d[i]))\n",
    "\td[remainder]=i"
   ]
  },
  {
   "cell_type": "markdown",
   "id": "77d52bb6",
   "metadata": {},
   "source": [
    "[<b>2. Majority Element</b>](https://www.geeksforgeeks.org/majority-element/)"
   ]
  },
  {
   "cell_type": "code",
   "execution_count": 5,
   "id": "600b2bae",
   "metadata": {},
   "outputs": [
    {
     "data": {
      "text/plain": [
       "4"
      ]
     },
     "execution_count": 5,
     "metadata": {},
     "output_type": "execute_result"
    }
   ],
   "source": [
    "A = [3, 3, 4, 2, 4, 4, 2, 4, 4]\n",
    "n = len(A)\n",
    "def majorityElement(A, N):\n",
    "        d = {}\n",
    "        for i in range(len(A)):\n",
    "            if A[i] not in d:\n",
    "                d[A[i]] = 1\n",
    "            else:\n",
    "                d[A[i]]+=1\n",
    "        for key,value in zip(d.keys(),d.values()):\n",
    "            if value > N/2:\n",
    "                return key\n",
    "        \n",
    "        return -1\n",
    "majorityElement(A,n)"
   ]
  },
  {
   "cell_type": "code",
   "execution_count": 6,
   "id": "f751f306",
   "metadata": {},
   "outputs": [
    {
     "data": {
      "text/plain": [
       "4"
      ]
     },
     "execution_count": 6,
     "metadata": {},
     "output_type": "execute_result"
    }
   ],
   "source": [
    "#Using (Moore's voting algo)\n",
    "def majorityElement(A, N):\n",
    "        max_ind, count = 0,0\n",
    "        \n",
    "        for i in range(len(A)):\n",
    "            if A[max_ind] == A[i]:\n",
    "                count+=1\n",
    "            else:\n",
    "                count-=1\n",
    "            if count == -1:\n",
    "                max_ind = i\n",
    "                count = 0\n",
    "                \n",
    "        count = 0\n",
    "        for i in A:\n",
    "            if i == A[max_ind]:\n",
    "                count+=1\n",
    "        if count > N/2:\n",
    "            return A[max_ind]\n",
    "    \n",
    "        return -1\n",
    "majorityElement(A,n)"
   ]
  },
  {
   "cell_type": "markdown",
   "id": "79c5c47c",
   "metadata": {},
   "source": [
    "[<b>3. Find the number occuring odd number of times</b>](https://www.geeksforgeeks.org/find-the-number-occurring-odd-number-of-times/)"
   ]
  },
  {
   "cell_type": "code",
   "execution_count": 9,
   "id": "b2cf3594",
   "metadata": {},
   "outputs": [
    {
     "data": {
      "text/plain": [
       "1"
      ]
     },
     "execution_count": 9,
     "metadata": {},
     "output_type": "execute_result"
    }
   ],
   "source": [
    "arr = [1,2,3,2,3,1,1]\n",
    "N = len(arr)\n",
    "def findSingle(N, arr):\n",
    "        res = 0\n",
    "        for i in arr:\n",
    "            res = res^i\n",
    "        return res\n",
    "findSingle(N,arr)"
   ]
  },
  {
   "cell_type": "markdown",
   "id": "6fce663a",
   "metadata": {},
   "source": [
    "[<b>4. Merge an array of size n into another of size m + n</b>](https://www.geeksforgeeks.org/merge-one-array-of-size-n-into-another-one-of-size-mn/)"
   ]
  },
  {
   "cell_type": "code",
   "execution_count": null,
   "id": "3c8083ee",
   "metadata": {},
   "outputs": [],
   "source": []
  },
  {
   "cell_type": "markdown",
   "id": "812587f1",
   "metadata": {},
   "source": [
    "[<b>5. Rotate an array</b>](https://www.geeksforgeeks.org/program-for-array-rotation-continued-reversal-algorithm/)"
   ]
  },
  {
   "cell_type": "code",
   "execution_count": 12,
   "id": "4b6a3923",
   "metadata": {},
   "outputs": [
    {
     "data": {
      "text/plain": [
       "[4, 5, 1, 2, 3]"
      ]
     },
     "execution_count": 12,
     "metadata": {},
     "output_type": "execute_result"
    }
   ],
   "source": [
    "arr = [1,2,3,4,5]\n",
    "n = len(arr)\n",
    "def rotate(arr,k,n):\n",
    "    k = k%n\n",
    "    arr = arr[::-1]\n",
    "    arr[k:n] = arr[k:n][::-1]\n",
    "    arr[:k] = arr[:k][::-1]\n",
    "    return arr\n",
    "rotate(arr,2,n)"
   ]
  },
  {
   "cell_type": "markdown",
   "id": "ae5857b9",
   "metadata": {},
   "source": [
    "[<b>6. Leaders in an array</b>](https://www.geeksforgeeks.org/leaders-in-an-array/)"
   ]
  },
  {
   "cell_type": "code",
   "execution_count": 32,
   "id": "80455807",
   "metadata": {},
   "outputs": [
    {
     "name": "stdout",
     "output_type": "stream",
     "text": [
      "2\n",
      "5\n",
      "17\n",
      "[17, 5, 2]\n"
     ]
    }
   ],
   "source": [
    "arr = [16, 17, 4, 3, 5, 2]\n",
    "max_r = float(\"-inf\")\n",
    "for i in range(len(arr)-1,-1,-1):\n",
    "    if arr[i] > max_r:\n",
    "        max_r = arr[i]\n",
    "        print(arr[i])\n",
    "s = []\n",
    "s.append(arr[len(arr)-1])\n",
    "\n",
    "#using stack\n",
    "for i in range(len(arr)-2,-1,-1):\n",
    "    if (arr[i]> s[len(s)-1]):\n",
    "        s.append(arr[i])\n",
    "print(s[::-1])"
   ]
  },
  {
   "cell_type": "markdown",
   "id": "9c71afc9",
   "metadata": {},
   "source": [
    "[<b>7. Majority element in sorted array</b>](https://www.geeksforgeeks.org/check-for-majority-element-in-a-sorted-array/)"
   ]
  },
  {
   "cell_type": "code",
   "execution_count": 51,
   "id": "a8eaeb15",
   "metadata": {},
   "outputs": [
    {
     "name": "stdout",
     "output_type": "stream",
     "text": [
      "3 is majority element\n"
     ]
    }
   ],
   "source": [
    "arr = [1, 2, 3, 3, 3, 3,10]\n",
    "x = 3\n",
    "n = len(arr)\n",
    "def majority():\n",
    "    last_index = (n//2)+1 if n%2 == 0 else (n//2)\n",
    "    print(last_index)\n",
    "    for i in range(last_index):\n",
    "        if arr[i] == x and arr[i+(n//2)] == x:\n",
    "            return 1\n",
    "if majorityElement(arr,n) == x :\n",
    "    print(\"{} is majority element\".format(x))\n",
    "else:\n",
    "    print(\"Not majority\")\n",
    "    "
   ]
  },
  {
   "cell_type": "markdown",
   "id": "ddf094e9",
   "metadata": {},
   "source": [
    "8. Segregate 0s and 1s in an array\n",
    "9. Product array\n",
    "10. Find 2 repeating elements\n",
    "11. Find the smallest missing number\n",
    "12. Find max j-i such that arr[j] > arr[i]\n",
    "13. Find subarray with given sum\n",
    "14. Find the smallest positive number missing from an unsorted array\n",
    "15. Find 2 numbers with odd occurence\n",
    "16. Largest subarray with equal number of 0s and 1s\n",
    "17. Replace every element with the greatest on right side\n",
    "18. Stock buy sell to maximize profit\n",
    "19. Find common elements in 3 sorted arrays\n",
    "20. Nuts and bolts problem\n",
    "21. Trapping rain water\n",
    "22. Merge 2 sorted arrays in O(1) space"
   ]
  },
  {
   "cell_type": "code",
   "execution_count": null,
   "id": "cb8e60a8",
   "metadata": {},
   "outputs": [],
   "source": []
  },
  {
   "cell_type": "code",
   "execution_count": null,
   "id": "066ca448",
   "metadata": {},
   "outputs": [],
   "source": []
  },
  {
   "cell_type": "code",
   "execution_count": null,
   "id": "dd8f752d",
   "metadata": {},
   "outputs": [],
   "source": []
  },
  {
   "cell_type": "code",
   "execution_count": null,
   "id": "40efced8",
   "metadata": {},
   "outputs": [],
   "source": []
  },
  {
   "cell_type": "code",
   "execution_count": null,
   "id": "3b1d06bc",
   "metadata": {},
   "outputs": [],
   "source": []
  }
 ],
 "metadata": {
  "kernelspec": {
   "display_name": "Python 3 (ipykernel)",
   "language": "python",
   "name": "python3"
  },
  "language_info": {
   "codemirror_mode": {
    "name": "ipython",
    "version": 3
   },
   "file_extension": ".py",
   "mimetype": "text/x-python",
   "name": "python",
   "nbconvert_exporter": "python",
   "pygments_lexer": "ipython3",
   "version": "3.9.13"
  }
 },
 "nbformat": 4,
 "nbformat_minor": 5
}
